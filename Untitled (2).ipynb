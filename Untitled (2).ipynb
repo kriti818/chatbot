{
 "cells": [
  {
   "cell_type": "markdown",
   "id": "354fdbe7-3d31-4435-a52f-e9d09d455946",
   "metadata": {},
   "source": [
    "## Movie Recommendation Engine ##\n"
   ]
  },
  {
   "cell_type": "code",
   "execution_count": 26,
   "id": "e9102215-fbdb-408a-867b-b539f909ab5f",
   "metadata": {},
   "outputs": [
    {
     "name": "stdout",
     "output_type": "stream",
     "text": [
      "The Dark Knight Rises\n",
      "Batman Begins\n",
      "The Dark Knight\n",
      "Amidst the Devil's Wings\n",
      "The Killer Inside Me\n",
      "The Prestige\n",
      "Batman Returns\n",
      "Batman\n",
      "Batman & Robin\n",
      "Kick-Ass\n",
      "RockNRolla\n",
      "Kick-Ass 2\n",
      "Harry Brown\n"
     ]
    }
   ],
   "source": [
    "import pandas as pd\n",
    "import numpy as np\n",
    "from sklearn.feature_extraction.text import CountVectorizer\n",
    "from sklearn.metrics.pairwise import cosine_similarity\n",
    "###### helper functions. Use them when needed #######\n",
    "def get_title_from_index(index):\n",
    "\treturn df[df.index == index][\"title\"].values[0]\n",
    "\n",
    "def get_index_from_title(title):\n",
    "\treturn df[df.title == title][\"index\"].values[0]\n",
    "##################################################\n",
    "\n",
    "##Step 1: Read CSV File\n",
    "df=pd.read_csv(\"C:\\\\Users\\\\MANPREET\\\\Desktop\\\\movie recommend\\\\movie_recommender\\\\movie_dataset.csv\")\n",
    "#print(df.columns)\n",
    "##Step 2: Select Features\n",
    "features=['keywords','cast','genres','director']\n",
    "##Step 3: Create a column in DF which combines all selected features\n",
    "for feature in features:\n",
    "    df[feature]=df[feature].fillna('')\n",
    "def combined_features(row):\n",
    "    try:\n",
    "        return row['keywords']+\" \"+row['cast']+\" \"+row[\"genres\"]+\" \"+row[\"director\"]\n",
    "    except:\n",
    "        print(\"Error:\",row)\n",
    "        \n",
    "df[\"combined_features\"]=df.apply(combined_features,axis=1)\n",
    "#print(\"Combined features:\",df[\"combined_features\"].head())\n",
    "\n",
    "#print(df[\"combined_features\"].head())\n",
    "\n",
    "##Step 4: Create count matrix from this new combined column\n",
    "cv=CountVectorizer()\n",
    "count_matrix=cv.fit_transform(df['combined_features'])\n",
    "\n",
    "##Step 5: Compute the Cosine Similarity based on the count_matrix\n",
    "cosine_sim=cosine_similarity(count_matrix)\n",
    "\n",
    "movie_user_likes = \"The Dark Knight Rises\"\n",
    "\n",
    "## Step 6: Get index of this movie from its title\n",
    "movie_index=get_index_from_title(movie_user_likes)\n",
    "similar_movies=list(enumerate(cosine_sim[movie_index]))\n",
    "\n",
    "\n",
    "## Step 7: Get a list of similar movies in descending order of similarity score\n",
    "sorted_similar_movies=sorted(similar_movies,key=lambda x:x[1],reverse=True)\n",
    "\n",
    "#print(sorted_similar_movies)\n",
    "## Step 8: Print titles of first 50 movies \n",
    "for movie in sorted_similar_movies:\n",
    "    if(movie[1]>0.3):\n",
    "        print(get_title_from_index(movie[0]))\n",
    "   "
   ]
  },
  {
   "cell_type": "code",
   "execution_count": null,
   "id": "0e4b6b95-e3ad-4eb8-affa-1a13dde9b8ab",
   "metadata": {},
   "outputs": [],
   "source": []
  },
  {
   "cell_type": "code",
   "execution_count": null,
   "id": "b9bae78a-5eac-4ad9-94ef-09833eb3fbf2",
   "metadata": {},
   "outputs": [],
   "source": []
  }
 ],
 "metadata": {
  "kernelspec": {
   "display_name": "Python 3",
   "language": "python",
   "name": "python3"
  },
  "language_info": {
   "codemirror_mode": {
    "name": "ipython",
    "version": 3
   },
   "file_extension": ".py",
   "mimetype": "text/x-python",
   "name": "python",
   "nbconvert_exporter": "python",
   "pygments_lexer": "ipython3",
   "version": "3.9.5"
  }
 },
 "nbformat": 4,
 "nbformat_minor": 5
}
